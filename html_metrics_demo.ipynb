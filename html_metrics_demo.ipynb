{
  "nbformat": 4,
  "nbformat_minor": 0,
  "metadata": {
    "colab": {
      "name": "html_metrics_demo.ipynb",
      "provenance": [],
      "collapsed_sections": []
    },
    "kernelspec": {
      "name": "python3",
      "display_name": "Python 3"
    },
    "language_info": {
      "name": "python"
    }
  },
  "cells": [
    {
      "cell_type": "markdown",
      "metadata": {
        "id": "1PbI9T7W4RqD"
      },
      "source": [
        "# HTML Confusion Matrix and Performance Report Demo\n",
        "created by Reynaldo Vazquez <br>\n",
        "April 2021\n",
        "\n",
        "### Demonstrates the use of the functions in the `html_metrics.py` script.\n",
        "\n",
        "Why html? I was inspired to create these simply by aesthetics. For some time, I have been using “heated map” confusion matrices as an excuse to add color into otherwise duller notebooks and reports. However, options such as matplotlib and seaborn tended to blurry the text in the plots. This was particularly true when the plots are saved as jpg or png images and then (often automatically) resized to fit different types of displays. \n",
        "\n",
        "My way around this was to create these functions, where text is displayed directly into the “graphics” and never converted to image. These can then be displayed in Jupyter notebooks, webpages, or even Microsoft documents. \n",
        "\n",
        "Below are examples of how to use the functions in a Jupyter notebook and other html documents. To use in a Microsoft (e.g. Word) document, provide a file name in the `confusion_matrix_html()` function e.g. `html_file = \"my_file_name.html\"` then drag the created file onto an opened Microsoft document. \n",
        "\n",
        "\n"
      ]
    },
    {
      "cell_type": "code",
      "metadata": {
        "id": "JElOyXVhoDum"
      },
      "source": [
        "import numpy as np\n",
        "import pandas as pd\n",
        "import random, string\n",
        "from sklearn.metrics import accuracy_score, confusion_matrix\n",
        "from IPython.display import display, HTML\n",
        "\n",
        "!wget -q https://raw.githubusercontent.com/reyvaz/utils-aux/master/html_metrics.py\n",
        "from html_metrics import *"
      ],
      "execution_count": 1,
      "outputs": []
    },
    {
      "cell_type": "code",
      "metadata": {
        "cellView": "form",
        "id": "S1P6pwO2xf1R"
      },
      "source": [
        "#@markdown Data Simulation Function\n",
        "def sim_data(n_classes = 2, n_obs = 1000, sim_accuracy = 0.90):\n",
        "    '''\n",
        "    Creates simulated ground-truth and prediction data\n",
        "    Args:\n",
        "        n_classes: (int) the number of classes to be simulated\n",
        "        n_obs: (int) the number of observations to be simulated\n",
        "        sim_accuracy: (float) the approximated simulated accuracy \n",
        "    Returns:\n",
        "        a tuple containing numpy arrays of simulated ground_truth and predictions \n",
        "        and a list of class names. \n",
        "    '''\n",
        "    ground_truth = np.random.randint(n_classes, size=n_obs)\n",
        "    classes = np.arange(0, n_classes, 1)\n",
        "    class_names = ['Class {}'.format(i) for i in classes]\n",
        "    impute_factor = n_classes/(n_classes - 1)\n",
        "    n_impute = round((1-sim_accuracy)*impute_factor*n_obs)\n",
        "    predictions = ground_truth.copy()\n",
        "    predictions[:n_impute] = [random.choice(classes) for i in range(n_impute)]\n",
        "    return ground_truth, predictions, class_names"
      ],
      "execution_count": 2,
      "outputs": []
    },
    {
      "cell_type": "markdown",
      "metadata": {
        "id": "pRheY03rjq1s"
      },
      "source": [
        "## Basic Confusion Matrix\n",
        "\n",
        "Below it shows the html confusion matrix with default argument values. \n",
        "\n",
        "By default, `confusion_matrix_html()` displays the confusion matrix but it can \n",
        "be suppressed by setting `show_cm=False`. The function always returns the html string."
      ]
    },
    {
      "cell_type": "code",
      "metadata": {
        "colab": {
          "base_uri": "https://localhost:8080/"
        },
        "id": "ac0BqsJnzxlO",
        "outputId": "8c2712fe-5097-46e8-b572-86bc9d7466c9"
      },
      "source": [
        "gt, preds, classes = sim_data()  # simulating data\n",
        "cm = confusion_matrix(gt, preds) # getting cm from sklearn.metrics.confusion_matrix\n",
        "print(cm)"
      ],
      "execution_count": 3,
      "outputs": [
        {
          "output_type": "stream",
          "text": [
            "[[460  44]\n",
            " [ 49 447]]\n"
          ],
          "name": "stdout"
        }
      ]
    },
    {
      "cell_type": "code",
      "metadata": {
        "colab": {
          "base_uri": "https://localhost:8080/",
          "height": 202
        },
        "id": "6-YP4qGR389q",
        "outputId": "e551c730-3af9-43d4-f721-2c9d14c45848"
      },
      "source": [
        "cm_string = confusion_matrix_html(cm)"
      ],
      "execution_count": 4,
      "outputs": [
        {
          "output_type": "display_data",
          "data": {
            "text/html": [
              "<style>\n",
              ".cm {height: 250px; display:table-cell; vertical-align:middle;}\n",
              ".tg {border-spacing:0;text-align:center; vertical-align:middle}\n",
              ".tg td {overflow:hidden; padding:8px 6px; word-break:normal;}\n",
              ".tg th {overflow:hidden; word-break:normal;}\n",
              ".ver_text {transform: rotate(-90deg);}\n",
              ".norm {font-size:11.5px}\n",
              "</style>\n",
              "<table class=\"tg\">\n",
              "<thead>\n",
              "    <tr>\n",
              "      <th class=\"tg\" colspan=\"2\" rowspan=\"2\"></th>\n",
              "      <th class=\"tg\" colspan=\"2\">Confusion Matrix<br><span class=\"norm\"></span></th>\n",
              "    </tr>\n",
              "    <tr><td class=\"tg\" colspan=\"2\">Predicted</td></tr>\n",
              "</thead>\n",
              "<tbody>\n",
              "    <tr>\n",
              "\t<td class=\"tg ver_text\" rowspan=\"2\">Actual</td>\n",
              "\t<td class=\"tg\">Class 1</td><td class=\"tg\" style=\"background-color:rgb(14, 57, 75); color:white\">460<br><span class=\"norm\">(0.91)</span></td><td class=\"tg\" style=\"background-color:rgb(195, 203, 207); color:grey\">44<br><span class=\"norm\">(0.09)</span></td></tr><tr>\n",
              "\t<td class=\"tg\">Class 2</td><td class=\"tg\" style=\"background-color:rgb(191, 200, 204); color:grey\">49<br><span class=\"norm\">(0.10)</span></td><td class=\"tg\" style=\"background-color:rgb(16, 58, 77); color:white\">447<br><span class=\"norm\">(0.90)</span></td></tr>\n",
              "    <tr>\n",
              "      <td class=\"tg\"></td>\n",
              "      <td class=\"tg\"></td>\n",
              "      <td class=\"tg\" style=\"width: 60px;\">Class 1</td><td class=\"tg\" style=\"width: 60px;\">Class 2</td>\n",
              "    </tr>\n",
              "</tbody>\n",
              "</table>\n",
              "    "
            ],
            "text/plain": [
              "<IPython.core.display.HTML object>"
            ]
          },
          "metadata": {
            "tags": []
          }
        }
      ]
    },
    {
      "cell_type": "code",
      "metadata": {
        "colab": {
          "base_uri": "https://localhost:8080/"
        },
        "id": "Y4nQRAmLjM8G",
        "outputId": "36038391-1fc7-40f7-8b91-f84a2d4c9eb9"
      },
      "source": [
        "print(cm_string)"
      ],
      "execution_count": 5,
      "outputs": [
        {
          "output_type": "stream",
          "text": [
            "<style>\n",
            ".cm {height: 250px; display:table-cell; vertical-align:middle;}\n",
            ".tg {border-spacing:0;text-align:center; vertical-align:middle}\n",
            ".tg td {overflow:hidden; padding:8px 6px; word-break:normal;}\n",
            ".tg th {overflow:hidden; word-break:normal;}\n",
            ".ver_text {transform: rotate(-90deg);}\n",
            ".norm {font-size:11.5px}\n",
            "</style>\n",
            "<table class=\"tg\">\n",
            "<thead>\n",
            "    <tr>\n",
            "      <th class=\"tg\" colspan=\"2\" rowspan=\"2\"></th>\n",
            "      <th class=\"tg\" colspan=\"2\">Confusion Matrix<br><span class=\"norm\"></span></th>\n",
            "    </tr>\n",
            "    <tr><td class=\"tg\" colspan=\"2\">Predicted</td></tr>\n",
            "</thead>\n",
            "<tbody>\n",
            "    <tr>\n",
            "\t<td class=\"tg ver_text\" rowspan=\"2\">Actual</td>\n",
            "\t<td class=\"tg\">Class 1</td><td class=\"tg\" style=\"background-color:rgb(14, 57, 75); color:white\">460<br><span class=\"norm\">(0.91)</span></td><td class=\"tg\" style=\"background-color:rgb(195, 203, 207); color:grey\">44<br><span class=\"norm\">(0.09)</span></td></tr><tr>\n",
            "\t<td class=\"tg\">Class 2</td><td class=\"tg\" style=\"background-color:rgb(191, 200, 204); color:grey\">49<br><span class=\"norm\">(0.10)</span></td><td class=\"tg\" style=\"background-color:rgb(16, 58, 77); color:white\">447<br><span class=\"norm\">(0.90)</span></td></tr>\n",
            "    <tr>\n",
            "      <td class=\"tg\"></td>\n",
            "      <td class=\"tg\"></td>\n",
            "      <td class=\"tg\" style=\"width: 60px;\">Class 1</td><td class=\"tg\" style=\"width: 60px;\">Class 2</td>\n",
            "    </tr>\n",
            "</tbody>\n",
            "</table>\n",
            "    \n"
          ],
          "name": "stdout"
        }
      ]
    },
    {
      "cell_type": "markdown",
      "metadata": {
        "id": "Rl7W3P0pksfe"
      },
      "source": [
        "The string can then be used with any HTML interpreter, or pasted into an html document. "
      ]
    },
    {
      "cell_type": "code",
      "metadata": {
        "colab": {
          "base_uri": "https://localhost:8080/",
          "height": 202
        },
        "id": "IoLiU774kiLV",
        "outputId": "e69d3a80-9df8-4b8f-caa3-b43a30668f1d"
      },
      "source": [
        "display(HTML(cm_string))"
      ],
      "execution_count": 6,
      "outputs": [
        {
          "output_type": "display_data",
          "data": {
            "text/html": [
              "<style>\n",
              ".cm {height: 250px; display:table-cell; vertical-align:middle;}\n",
              ".tg {border-spacing:0;text-align:center; vertical-align:middle}\n",
              ".tg td {overflow:hidden; padding:8px 6px; word-break:normal;}\n",
              ".tg th {overflow:hidden; word-break:normal;}\n",
              ".ver_text {transform: rotate(-90deg);}\n",
              ".norm {font-size:11.5px}\n",
              "</style>\n",
              "<table class=\"tg\">\n",
              "<thead>\n",
              "    <tr>\n",
              "      <th class=\"tg\" colspan=\"2\" rowspan=\"2\"></th>\n",
              "      <th class=\"tg\" colspan=\"2\">Confusion Matrix<br><span class=\"norm\"></span></th>\n",
              "    </tr>\n",
              "    <tr><td class=\"tg\" colspan=\"2\">Predicted</td></tr>\n",
              "</thead>\n",
              "<tbody>\n",
              "    <tr>\n",
              "\t<td class=\"tg ver_text\" rowspan=\"2\">Actual</td>\n",
              "\t<td class=\"tg\">Class 1</td><td class=\"tg\" style=\"background-color:rgb(14, 57, 75); color:white\">460<br><span class=\"norm\">(0.91)</span></td><td class=\"tg\" style=\"background-color:rgb(195, 203, 207); color:grey\">44<br><span class=\"norm\">(0.09)</span></td></tr><tr>\n",
              "\t<td class=\"tg\">Class 2</td><td class=\"tg\" style=\"background-color:rgb(191, 200, 204); color:grey\">49<br><span class=\"norm\">(0.10)</span></td><td class=\"tg\" style=\"background-color:rgb(16, 58, 77); color:white\">447<br><span class=\"norm\">(0.90)</span></td></tr>\n",
              "    <tr>\n",
              "      <td class=\"tg\"></td>\n",
              "      <td class=\"tg\"></td>\n",
              "      <td class=\"tg\" style=\"width: 60px;\">Class 1</td><td class=\"tg\" style=\"width: 60px;\">Class 2</td>\n",
              "    </tr>\n",
              "</tbody>\n",
              "</table>\n",
              "    "
            ],
            "text/plain": [
              "<IPython.core.display.HTML object>"
            ]
          },
          "metadata": {
            "tags": []
          }
        }
      ]
    },
    {
      "cell_type": "markdown",
      "metadata": {
        "id": "P0SUsdhxlC34"
      },
      "source": [
        "## Binary Performance Report\n",
        "A performance report can be produced as follows\n",
        "\n",
        "Even though `confusion_matrix_html()` can be used with any number of classes, the tabular part of the report is designed only for binary classes. The following uses the data simulated above, since it simulates binary classes, it should work fine."
      ]
    },
    {
      "cell_type": "code",
      "metadata": {
        "colab": {
          "base_uri": "https://localhost:8080/",
          "height": 331
        },
        "id": "OzXACHWQ_H7s",
        "outputId": "c22aabbe-9d23-4ecd-e516-2ed3ea56ce9e"
      },
      "source": [
        "_, cm, metrics_strings = performance_metrics(gt, preds)\n",
        "table_string = metrics_table_html_string(metrics_strings)\n",
        "display(HTML(html_report_base % (cm_string, table_string)))"
      ],
      "execution_count": 7,
      "outputs": [
        {
          "output_type": "display_data",
          "data": {
            "text/html": [
              "\n",
              "<style>\n",
              ".column {float: left; width: 320px; padding: 10px;}\n",
              ".idented {text-indent: 1em;}\n",
              "</style>\n",
              "<h3>Performance Report</h3>\n",
              "<div>\n",
              "    <div class=\"column\"> <div class=\"cm\"> <style>\n",
              ".cm {height: 250px; display:table-cell; vertical-align:middle;}\n",
              ".tg {border-spacing:0;text-align:center; vertical-align:middle}\n",
              ".tg td {overflow:hidden; padding:8px 6px; word-break:normal;}\n",
              ".tg th {overflow:hidden; word-break:normal;}\n",
              ".ver_text {transform: rotate(-90deg);}\n",
              ".norm {font-size:11.5px}\n",
              "</style>\n",
              "<table class=\"tg\">\n",
              "<thead>\n",
              "    <tr>\n",
              "      <th class=\"tg\" colspan=\"2\" rowspan=\"2\"></th>\n",
              "      <th class=\"tg\" colspan=\"2\">Confusion Matrix<br><span class=\"norm\"></span></th>\n",
              "    </tr>\n",
              "    <tr><td class=\"tg\" colspan=\"2\">Predicted</td></tr>\n",
              "</thead>\n",
              "<tbody>\n",
              "    <tr>\n",
              "\t<td class=\"tg ver_text\" rowspan=\"2\">Actual</td>\n",
              "\t<td class=\"tg\">Class 1</td><td class=\"tg\" style=\"background-color:rgb(14, 57, 75); color:white\">460<br><span class=\"norm\">(0.91)</span></td><td class=\"tg\" style=\"background-color:rgb(195, 203, 207); color:grey\">44<br><span class=\"norm\">(0.09)</span></td></tr><tr>\n",
              "\t<td class=\"tg\">Class 2</td><td class=\"tg\" style=\"background-color:rgb(191, 200, 204); color:grey\">49<br><span class=\"norm\">(0.10)</span></td><td class=\"tg\" style=\"background-color:rgb(16, 58, 77); color:white\">447<br><span class=\"norm\">(0.90)</span></td></tr>\n",
              "    <tr>\n",
              "      <td class=\"tg\"></td>\n",
              "      <td class=\"tg\"></td>\n",
              "      <td class=\"tg\" style=\"width: 60px;\">Class 1</td><td class=\"tg\" style=\"width: 60px;\">Class 2</td>\n",
              "    </tr>\n",
              "</tbody>\n",
              "</table>\n",
              "     </div> </div>\n",
              "    <div class=\"column\"> <div class=\"cm\"> <table>\n",
              "   <tbody>\n",
              "\t<tr><td>Accuracy&emsp;</td><td class=\"idented\">90.70%</td></tr>\n",
              "\t<tr><td>Sensitivity&emsp;</td><td class=\"idented\">0.901</td></tr>\n",
              "\t<tr><td>Specificity&emsp;</td><td class=\"idented\">0.913</td></tr>\n",
              "\t<tr><td>&emsp;</td><td></td></tr>\n",
              "\t<tr><td>Total Observations&emsp;</td><td class=\"idented\">1000</td></tr>\n",
              "\t<tr><td>Correct Predictions&emsp;</td><td class=\"idented\">907</td></tr>\n",
              "\t<tr><td>Incorrect Predictions&emsp;</td><td class=\"idented\">93</td></tr>\n",
              "\t<tr><td>&emsp;</td><td></td></tr>\n",
              "\t<tr><td>True Positives&emsp;</td><td class=\"idented\">447</td></tr>\n",
              "\t<tr><td>True Negatives&emsp;</td><td class=\"idented\">460</td></tr>\n",
              "\t<tr><td>False Positives&emsp;</td><td class=\"idented\">44</td></tr>\n",
              "\t<tr><td>False Negatives&emsp;</td><td class=\"idented\">49</td></tr>\n",
              "   </tbody>\n",
              "</table> </div> </div>\n",
              "</div>\n"
            ],
            "text/plain": [
              "<IPython.core.display.HTML object>"
            ]
          },
          "metadata": {
            "tags": []
          }
        }
      ]
    },
    {
      "cell_type": "markdown",
      "metadata": {
        "id": "jzz7cnhcl11M"
      },
      "source": [
        "## Confusion Matrix with `n>2` Classes"
      ]
    },
    {
      "cell_type": "code",
      "metadata": {
        "id": "ristL30omIab"
      },
      "source": [
        "# Create the simulated data with n_classes > 2\n",
        "gt, preds, classes = sim_data(n_classes=6, n_obs=2000, sim_accuracy=0.92)\n",
        "cm = confusion_matrix(gt, preds)"
      ],
      "execution_count": 8,
      "outputs": []
    },
    {
      "cell_type": "markdown",
      "metadata": {
        "id": "nN6CWr1j1vyN"
      },
      "source": [
        "Still, `confusion_matrix_html()` only requires the `cm` array"
      ]
    },
    {
      "cell_type": "code",
      "metadata": {
        "colab": {
          "base_uri": "https://localhost:8080/",
          "height": 402
        },
        "id": "H2QZccdB6UPd",
        "outputId": "351d3438-ec31-4d4d-ba1f-404147fbc1f1"
      },
      "source": [
        "_ = confusion_matrix_html(cm)"
      ],
      "execution_count": 9,
      "outputs": [
        {
          "output_type": "display_data",
          "data": {
            "text/html": [
              "<style>\n",
              ".cm {height: 250px; display:table-cell; vertical-align:middle;}\n",
              ".tg {border-spacing:0;text-align:center; vertical-align:middle}\n",
              ".tg td {overflow:hidden; padding:8px 6px; word-break:normal;}\n",
              ".tg th {overflow:hidden; word-break:normal;}\n",
              ".ver_text {transform: rotate(-90deg);}\n",
              ".norm {font-size:11.5px}\n",
              "</style>\n",
              "<table class=\"tg\">\n",
              "<thead>\n",
              "    <tr>\n",
              "      <th class=\"tg\" colspan=\"2\" rowspan=\"2\"></th>\n",
              "      <th class=\"tg\" colspan=\"6\">Confusion Matrix<br><span class=\"norm\"></span></th>\n",
              "    </tr>\n",
              "    <tr><td class=\"tg\" colspan=\"6\">Predicted</td></tr>\n",
              "</thead>\n",
              "<tbody>\n",
              "    <tr>\n",
              "\t<td class=\"tg ver_text\" rowspan=\"6\">Actual</td>\n",
              "\t<td class=\"tg\">Class 1</td><td class=\"tg\" style=\"background-color:rgb(16, 58, 76); color:white\">292<br><span class=\"norm\">(0.90)</span></td><td class=\"tg\" style=\"background-color:rgb(218, 221, 223); color:grey\">10<br><span class=\"norm\">(0.03)</span></td><td class=\"tg\" style=\"background-color:rgb(224, 227, 228); color:grey\">6<br><span class=\"norm\">(0.02)</span></td><td class=\"tg\" style=\"background-color:rgb(227, 230, 230); color:grey\">4<br><span class=\"norm\">(0.01)</span></td><td class=\"tg\" style=\"background-color:rgb(218, 221, 223); color:grey\">10<br><span class=\"norm\">(0.03)</span></td><td class=\"tg\" style=\"background-color:rgb(234, 235, 235); color:grey\">1<br><span class=\"norm\">(< 0.01)</span></td></tr><tr>\n",
              "\t<td class=\"tg\">Class 2</td><td class=\"tg\" style=\"background-color:rgb(223, 226, 227); color:grey\">7<br><span class=\"norm\">(0.02)</span></td><td class=\"tg\" style=\"background-color:rgb(14, 57, 75); color:white\">312<br><span class=\"norm\">(0.91)</span></td><td class=\"tg\" style=\"background-color:rgb(228, 230, 231); color:grey\">4<br><span class=\"norm\">(0.01)</span></td><td class=\"tg\" style=\"background-color:rgb(224, 227, 228); color:grey\">6<br><span class=\"norm\">(0.02)</span></td><td class=\"tg\" style=\"background-color:rgb(223, 226, 227); color:grey\">7<br><span class=\"norm\">(0.02)</span></td><td class=\"tg\" style=\"background-color:rgb(224, 227, 228); color:grey\">6<br><span class=\"norm\">(0.02)</span></td></tr><tr>\n",
              "\t<td class=\"tg\">Class 3</td><td class=\"tg\" style=\"background-color:rgb(220, 224, 225); color:grey\">8<br><span class=\"norm\">(0.03)</span></td><td class=\"tg\" style=\"background-color:rgb(229, 231, 232); color:grey\">3<br><span class=\"norm\">(< 0.01)</span></td><td class=\"tg\" style=\"background-color:rgb(11, 54, 73); color:white\">297<br><span class=\"norm\">(0.93)</span></td><td class=\"tg\" style=\"background-color:rgb(229, 231, 232); color:grey\">3<br><span class=\"norm\">(< 0.01)</span></td><td class=\"tg\" style=\"background-color:rgb(227, 229, 230); color:grey\">4<br><span class=\"norm\">(0.01)</span></td><td class=\"tg\" style=\"background-color:rgb(229, 231, 232); color:grey\">3<br><span class=\"norm\">(< 0.01)</span></td></tr><tr>\n",
              "\t<td class=\"tg\">Class 4</td><td class=\"tg\" style=\"background-color:rgb(235, 235, 236); color:grey\">1<br><span class=\"norm\">(< 0.01)</span></td><td class=\"tg\" style=\"background-color:rgb(225, 227, 228); color:grey\">6<br><span class=\"norm\">(0.02)</span></td><td class=\"tg\" style=\"background-color:rgb(226, 229, 230); color:grey\">5<br><span class=\"norm\">(0.01)</span></td><td class=\"tg\" style=\"background-color:rgb(8, 52, 71); color:white\">330<br><span class=\"norm\">(0.95)</span></td><td class=\"tg\" style=\"background-color:rgb(226, 229, 230); color:grey\">5<br><span class=\"norm\">(0.01)</span></td><td class=\"tg\" style=\"background-color:rgb(235, 235, 236); color:grey\">1<br><span class=\"norm\">(< 0.01)</span></td></tr><tr>\n",
              "\t<td class=\"tg\">Class 5</td><td class=\"tg\" style=\"background-color:rgb(225, 227, 228); color:grey\">6<br><span class=\"norm\">(0.02)</span></td><td class=\"tg\" style=\"background-color:rgb(226, 229, 230); color:grey\">5<br><span class=\"norm\">(0.01)</span></td><td class=\"tg\" style=\"background-color:rgb(223, 226, 227); color:grey\">7<br><span class=\"norm\">(0.02)</span></td><td class=\"tg\" style=\"background-color:rgb(222, 225, 226); color:grey\">8<br><span class=\"norm\">(0.02)</span></td><td class=\"tg\" style=\"background-color:rgb(16, 58, 77); color:white\">316<br><span class=\"norm\">(0.90)</span></td><td class=\"tg\" style=\"background-color:rgb(220, 224, 225); color:grey\">9<br><span class=\"norm\">(0.03)</span></td></tr><tr>\n",
              "\t<td class=\"tg\">Class 6</td><td class=\"tg\" style=\"background-color:rgb(227, 229, 230); color:grey\">4<br><span class=\"norm\">(0.01)</span></td><td class=\"tg\" style=\"background-color:rgb(232, 233, 233); color:grey\">2<br><span class=\"norm\">(< 0.01)</span></td><td class=\"tg\" style=\"background-color:rgb(229, 231, 232); color:grey\">3<br><span class=\"norm\">(< 0.01)</span></td><td class=\"tg\" style=\"background-color:rgb(227, 229, 230); color:grey\">4<br><span class=\"norm\">(0.01)</span></td><td class=\"tg\" style=\"background-color:rgb(224, 226, 228); color:grey\">6<br><span class=\"norm\">(0.02)</span></td><td class=\"tg\" style=\"background-color:rgb(10, 53, 72); color:white\">299<br><span class=\"norm\">(0.94)</span></td></tr>\n",
              "    <tr>\n",
              "      <td class=\"tg\"></td>\n",
              "      <td class=\"tg\"></td>\n",
              "      <td class=\"tg\" style=\"width: 60px;\">Class 1</td><td class=\"tg\" style=\"width: 60px;\">Class 2</td><td class=\"tg\" style=\"width: 60px;\">Class 3</td><td class=\"tg\" style=\"width: 60px;\">Class 4</td><td class=\"tg\" style=\"width: 60px;\">Class 5</td><td class=\"tg\" style=\"width: 60px;\">Class 6</td>\n",
              "    </tr>\n",
              "</tbody>\n",
              "</table>\n",
              "    "
            ],
            "text/plain": [
              "<IPython.core.display.HTML object>"
            ]
          },
          "metadata": {
            "tags": []
          }
        }
      ]
    },
    {
      "cell_type": "markdown",
      "metadata": {
        "id": "Xcch1Qi-pI3y"
      },
      "source": [
        "### Using custom colors and classes\n",
        "\n",
        "Color can be specified by the `max_rgb` argument. The argument should be a tuple tuple with the rgb code for the darkest possible cell."
      ]
    },
    {
      "cell_type": "code",
      "metadata": {
        "colab": {
          "base_uri": "https://localhost:8080/",
          "height": 402
        },
        "id": "fynGPQKEmSHX",
        "outputId": "7d4cab5f-26e0-4f30-a477-0f3387ec2b16"
      },
      "source": [
        "my_classes = list(string.ascii_uppercase[:6])\n",
        "_ = confusion_matrix_html(cm, classes = my_classes, max_rgb=(204, 0, 90))"
      ],
      "execution_count": 10,
      "outputs": [
        {
          "output_type": "display_data",
          "data": {
            "text/html": [
              "<style>\n",
              ".cm {height: 250px; display:table-cell; vertical-align:middle;}\n",
              ".tg {border-spacing:0;text-align:center; vertical-align:middle}\n",
              ".tg td {overflow:hidden; padding:8px 6px; word-break:normal;}\n",
              ".tg th {overflow:hidden; word-break:normal;}\n",
              ".ver_text {transform: rotate(-90deg);}\n",
              ".norm {font-size:11.5px}\n",
              "</style>\n",
              "<table class=\"tg\">\n",
              "<thead>\n",
              "    <tr>\n",
              "      <th class=\"tg\" colspan=\"2\" rowspan=\"2\"></th>\n",
              "      <th class=\"tg\" colspan=\"6\">Confusion Matrix<br><span class=\"norm\"></span></th>\n",
              "    </tr>\n",
              "    <tr><td class=\"tg\" colspan=\"6\">Predicted</td></tr>\n",
              "</thead>\n",
              "<tbody>\n",
              "    <tr>\n",
              "\t<td class=\"tg ver_text\" rowspan=\"6\">Actual</td>\n",
              "\t<td class=\"tg\">A</td><td class=\"tg\" style=\"background-color:rgb(206, 16, 100); color:white\">292<br><span class=\"norm\">(0.90)</span></td><td class=\"tg\" style=\"background-color:rgb(235, 218, 225); color:grey\">10<br><span class=\"norm\">(0.03)</span></td><td class=\"tg\" style=\"background-color:rgb(236, 224, 229); color:grey\">6<br><span class=\"norm\">(0.02)</span></td><td class=\"tg\" style=\"background-color:rgb(237, 227, 232); color:grey\">4<br><span class=\"norm\">(0.01)</span></td><td class=\"tg\" style=\"background-color:rgb(235, 218, 225); color:grey\">10<br><span class=\"norm\">(0.03)</span></td><td class=\"tg\" style=\"background-color:rgb(238, 234, 236); color:grey\">1<br><span class=\"norm\">(< 0.01)</span></td></tr><tr>\n",
              "\t<td class=\"tg\">B</td><td class=\"tg\" style=\"background-color:rgb(236, 223, 229); color:grey\">7<br><span class=\"norm\">(0.02)</span></td><td class=\"tg\" style=\"background-color:rgb(206, 14, 99); color:white\">312<br><span class=\"norm\">(0.91)</span></td><td class=\"tg\" style=\"background-color:rgb(237, 228, 232); color:grey\">4<br><span class=\"norm\">(0.01)</span></td><td class=\"tg\" style=\"background-color:rgb(236, 224, 230); color:grey\">6<br><span class=\"norm\">(0.02)</span></td><td class=\"tg\" style=\"background-color:rgb(236, 223, 229); color:grey\">7<br><span class=\"norm\">(0.02)</span></td><td class=\"tg\" style=\"background-color:rgb(236, 224, 230); color:grey\">6<br><span class=\"norm\">(0.02)</span></td></tr><tr>\n",
              "\t<td class=\"tg\">C</td><td class=\"tg\" style=\"background-color:rgb(236, 220, 227); color:grey\">8<br><span class=\"norm\">(0.03)</span></td><td class=\"tg\" style=\"background-color:rgb(237, 229, 233); color:grey\">3<br><span class=\"norm\">(< 0.01)</span></td><td class=\"tg\" style=\"background-color:rgb(205, 11, 96); color:white\">297<br><span class=\"norm\">(0.93)</span></td><td class=\"tg\" style=\"background-color:rgb(237, 229, 233); color:grey\">3<br><span class=\"norm\">(< 0.01)</span></td><td class=\"tg\" style=\"background-color:rgb(237, 227, 232); color:grey\">4<br><span class=\"norm\">(0.01)</span></td><td class=\"tg\" style=\"background-color:rgb(237, 229, 233); color:grey\">3<br><span class=\"norm\">(< 0.01)</span></td></tr><tr>\n",
              "\t<td class=\"tg\">D</td><td class=\"tg\" style=\"background-color:rgb(238, 235, 236); color:grey\">1<br><span class=\"norm\">(< 0.01)</span></td><td class=\"tg\" style=\"background-color:rgb(236, 225, 230); color:grey\">6<br><span class=\"norm\">(0.02)</span></td><td class=\"tg\" style=\"background-color:rgb(237, 226, 231); color:grey\">5<br><span class=\"norm\">(0.01)</span></td><td class=\"tg\" style=\"background-color:rgb(205, 8, 95); color:white\">330<br><span class=\"norm\">(0.95)</span></td><td class=\"tg\" style=\"background-color:rgb(237, 226, 231); color:grey\">5<br><span class=\"norm\">(0.01)</span></td><td class=\"tg\" style=\"background-color:rgb(238, 235, 236); color:grey\">1<br><span class=\"norm\">(< 0.01)</span></td></tr><tr>\n",
              "\t<td class=\"tg\">E</td><td class=\"tg\" style=\"background-color:rgb(236, 225, 230); color:grey\">6<br><span class=\"norm\">(0.02)</span></td><td class=\"tg\" style=\"background-color:rgb(237, 226, 231); color:grey\">5<br><span class=\"norm\">(0.01)</span></td><td class=\"tg\" style=\"background-color:rgb(236, 223, 229); color:grey\">7<br><span class=\"norm\">(0.02)</span></td><td class=\"tg\" style=\"background-color:rgb(236, 222, 228); color:grey\">8<br><span class=\"norm\">(0.02)</span></td><td class=\"tg\" style=\"background-color:rgb(206, 16, 100); color:white\">316<br><span class=\"norm\">(0.90)</span></td><td class=\"tg\" style=\"background-color:rgb(236, 220, 227); color:grey\">9<br><span class=\"norm\">(0.03)</span></td></tr><tr>\n",
              "\t<td class=\"tg\">F</td><td class=\"tg\" style=\"background-color:rgb(237, 227, 232); color:grey\">4<br><span class=\"norm\">(0.01)</span></td><td class=\"tg\" style=\"background-color:rgb(237, 232, 234); color:grey\">2<br><span class=\"norm\">(< 0.01)</span></td><td class=\"tg\" style=\"background-color:rgb(237, 229, 233); color:grey\">3<br><span class=\"norm\">(< 0.01)</span></td><td class=\"tg\" style=\"background-color:rgb(237, 227, 232); color:grey\">4<br><span class=\"norm\">(0.01)</span></td><td class=\"tg\" style=\"background-color:rgb(236, 224, 229); color:grey\">6<br><span class=\"norm\">(0.02)</span></td><td class=\"tg\" style=\"background-color:rgb(205, 10, 96); color:white\">299<br><span class=\"norm\">(0.94)</span></td></tr>\n",
              "    <tr>\n",
              "      <td class=\"tg\"></td>\n",
              "      <td class=\"tg\"></td>\n",
              "      <td class=\"tg\" style=\"width: 60px;\">A</td><td class=\"tg\" style=\"width: 60px;\">B</td><td class=\"tg\" style=\"width: 60px;\">C</td><td class=\"tg\" style=\"width: 60px;\">D</td><td class=\"tg\" style=\"width: 60px;\">E</td><td class=\"tg\" style=\"width: 60px;\">F</td>\n",
              "    </tr>\n",
              "</tbody>\n",
              "</table>\n",
              "    "
            ],
            "text/plain": [
              "<IPython.core.display.HTML object>"
            ]
          },
          "metadata": {
            "tags": []
          }
        }
      ]
    },
    {
      "cell_type": "markdown",
      "metadata": {
        "id": "OX8Mg6KOrhoG"
      },
      "source": [
        "## More colors"
      ]
    },
    {
      "cell_type": "code",
      "metadata": {
        "colab": {
          "base_uri": "https://localhost:8080/",
          "height": 83
        },
        "cellView": "form",
        "id": "gSL5lMZiYDS_",
        "outputId": "c74da8dc-02bd-4ee1-a493-b43fb497fca5"
      },
      "source": [
        "#@markdown Show Color from RGB\n",
        "color_palette_base = '''\n",
        "<style>\n",
        ".demo {min-width: 120px; padding: 3px 10px; display: inline-block;\n",
        "    font-size: 14px; color: white; text-align:center; margin: 5px;}\n",
        "%s\n",
        "</style>\n",
        "<div>\\n%s\\n</div> \n",
        "''' \n",
        "\n",
        "def show_rgb_colors(rgbs):\n",
        "    css_str, html_str = '', ''\n",
        "    for i, c in enumerate(rgbs, 1):\n",
        "        css_str += '.demo%d {background-color: rgb%s}\\n' % (i, c)\n",
        "        html_str += '\\t<span class=\"demo demo%d\">%s</span>\\n' % (i, c)\n",
        "        if i % 4 == 0: html_str += '<br>'\n",
        "\n",
        "    colors_html = HTML(color_palette_base % (css_str, html_str))\n",
        "    display(colors_html)\n",
        "    return None\n",
        "\n",
        "rgbs = [(153, 0, 61), (0, 102, 0), (153, 115, 0), (0, 43, 128), \n",
        "        (0, 85, 128), (115, 38, 115), (179, 71, 0), (128, 128, 0)]\n",
        "show_rgb_colors(rgbs)"
      ],
      "execution_count": 11,
      "outputs": [
        {
          "output_type": "display_data",
          "data": {
            "text/html": [
              "\n",
              "<style>\n",
              ".demo {min-width: 120px; padding: 3px 10px; display: inline-block;\n",
              "    font-size: 14px; color: white; text-align:center; margin: 5px;}\n",
              ".demo1 {background-color: rgb(153, 0, 61)}\n",
              ".demo2 {background-color: rgb(0, 102, 0)}\n",
              ".demo3 {background-color: rgb(153, 115, 0)}\n",
              ".demo4 {background-color: rgb(0, 43, 128)}\n",
              ".demo5 {background-color: rgb(0, 85, 128)}\n",
              ".demo6 {background-color: rgb(115, 38, 115)}\n",
              ".demo7 {background-color: rgb(179, 71, 0)}\n",
              ".demo8 {background-color: rgb(128, 128, 0)}\n",
              "\n",
              "</style>\n",
              "<div>\n",
              "\t<span class=\"demo demo1\">(153, 0, 61)</span>\n",
              "\t<span class=\"demo demo2\">(0, 102, 0)</span>\n",
              "\t<span class=\"demo demo3\">(153, 115, 0)</span>\n",
              "\t<span class=\"demo demo4\">(0, 43, 128)</span>\n",
              "<br>\t<span class=\"demo demo5\">(0, 85, 128)</span>\n",
              "\t<span class=\"demo demo6\">(115, 38, 115)</span>\n",
              "\t<span class=\"demo demo7\">(179, 71, 0)</span>\n",
              "\t<span class=\"demo demo8\">(128, 128, 0)</span>\n",
              "<br>\n",
              "</div> \n"
            ],
            "text/plain": [
              "<IPython.core.display.HTML object>"
            ]
          },
          "metadata": {
            "tags": []
          }
        }
      ]
    },
    {
      "cell_type": "code",
      "metadata": {
        "colab": {
          "base_uri": "https://localhost:8080/",
          "height": 1000
        },
        "cellView": "form",
        "id": "usGFy4n2q-nb",
        "outputId": "682dd609-8295-4d2f-f62c-acc127062ba3"
      },
      "source": [
        "#@markdown Generate Confusion Matrices\n",
        "num_classes = 6\n",
        "my_classes = list(string.ascii_uppercase[:num_classes])\n",
        "\n",
        "html_columns = '''\n",
        "<style>\n",
        ".column {float: left; width: %d px; padding: 15px;}\n",
        "</style>\n",
        "<div>%s</div>\n",
        "''' % (200+(15*num_classes), '%s')\n",
        "cm_divs = ''\n",
        "for rc in rgbs:\n",
        "    gt, preds, classes = sim_data(num_classes, 1000, 0.90)\n",
        "    cm = confusion_matrix(gt, preds)\n",
        "    html_cm = confusion_matrix_html(cm, classes = my_classes, max_rgb=rc, show_cm=False, supress = False, blank_zeros=False)\n",
        "    cm_divs += '<div class=\"column\"> {} </div>'.format(html_cm)\n",
        "\n",
        "display(HTML(html_columns % cm_divs))"
      ],
      "execution_count": 12,
      "outputs": [
        {
          "output_type": "display_data",
          "data": {
            "text/html": [
              "\n",
              "<style>\n",
              ".column {float: left; width: 290 px; padding: 15px;}\n",
              "</style>\n",
              "<div><div class=\"column\"> <style>\n",
              ".cm {height: 250px; display:table-cell; vertical-align:middle;}\n",
              ".tg {border-spacing:0;text-align:center; vertical-align:middle}\n",
              ".tg td {overflow:hidden; padding:8px 6px; word-break:normal;}\n",
              ".tg th {overflow:hidden; word-break:normal;}\n",
              ".ver_text {transform: rotate(-90deg);}\n",
              ".norm {font-size:11.5px}\n",
              "</style>\n",
              "<table class=\"tg\">\n",
              "<thead>\n",
              "    <tr>\n",
              "      <th class=\"tg\" colspan=\"2\" rowspan=\"2\"></th>\n",
              "      <th class=\"tg\" colspan=\"6\">Confusion Matrix<br><span class=\"norm\"></span></th>\n",
              "    </tr>\n",
              "    <tr><td class=\"tg\" colspan=\"6\">Predicted</td></tr>\n",
              "</thead>\n",
              "<tbody>\n",
              "    <tr>\n",
              "\t<td class=\"tg ver_text\" rowspan=\"6\">Actual</td>\n",
              "\t<td class=\"tg\">A</td><td class=\"tg\" style=\"background-color:rgb(159, 18, 74); color:white\">133<br><span class=\"norm\">(0.89)</span></td><td class=\"tg\" style=\"background-color:rgb(229, 213, 220); color:grey\">6<br><span class=\"norm\">(0.04)</span></td><td class=\"tg\" style=\"background-color:rgb(233, 223, 227); color:grey\">3<br><span class=\"norm\">(0.02)</span></td><td class=\"tg\" style=\"background-color:rgb(233, 223, 227); color:grey\">3<br><span class=\"norm\">(0.02)</span></td><td class=\"tg\" style=\"background-color:rgb(236, 231, 233); color:grey\">1<br><span class=\"norm\">(< 0.01)</span></td><td class=\"tg\" style=\"background-color:rgb(233, 223, 227); color:grey\">3<br><span class=\"norm\">(0.02)</span></td></tr><tr>\n",
              "\t<td class=\"tg\">B</td><td class=\"tg\" style=\"background-color:rgb(234, 225, 229); color:grey\">3<br><span class=\"norm\">(0.02)</span></td><td class=\"tg\" style=\"background-color:rgb(156, 10, 69); color:white\">174<br><span class=\"norm\">(0.94)</span></td><td class=\"tg\" style=\"background-color:rgb(235, 228, 231); color:grey\">2<br><span class=\"norm\">(0.01)</span></td><td class=\"tg\" style=\"background-color:rgb(232, 219, 224); color:grey\">5<br><span class=\"norm\">(0.03)</span></td><td class=\"tg\" style=\"background-color:rgb(239, 239, 239); color:grey\">0<br><span class=\"norm\">(0.00)</span></td><td class=\"tg\" style=\"background-color:rgb(235, 228, 231); color:grey\">2<br><span class=\"norm\">(0.01)</span></td></tr><tr>\n",
              "\t<td class=\"tg\">C</td><td class=\"tg\" style=\"background-color:rgb(232, 220, 224); color:grey\">4<br><span class=\"norm\">(0.03)</span></td><td class=\"tg\" style=\"background-color:rgb(233, 223, 227); color:grey\">3<br><span class=\"norm\">(0.02)</span></td><td class=\"tg\" style=\"background-color:rgb(159, 18, 74); color:white\">135<br><span class=\"norm\">(0.89)</span></td><td class=\"tg\" style=\"background-color:rgb(232, 220, 224); color:grey\">4<br><span class=\"norm\">(0.03)</span></td><td class=\"tg\" style=\"background-color:rgb(234, 227, 230); color:grey\">2<br><span class=\"norm\">(0.01)</span></td><td class=\"tg\" style=\"background-color:rgb(233, 223, 227); color:grey\">3<br><span class=\"norm\">(0.02)</span></td></tr><tr>\n",
              "\t<td class=\"tg\">D</td><td class=\"tg\" style=\"background-color:rgb(234, 225, 228); color:grey\">3<br><span class=\"norm\">(0.02)</span></td><td class=\"tg\" style=\"background-color:rgb(230, 214, 220); color:grey\">7<br><span class=\"norm\">(0.04)</span></td><td class=\"tg\" style=\"background-color:rgb(230, 214, 220); color:grey\">7<br><span class=\"norm\">(0.04)</span></td><td class=\"tg\" style=\"background-color:rgb(160, 21, 76); color:white\">160<br><span class=\"norm\">(0.87)</span></td><td class=\"tg\" style=\"background-color:rgb(234, 225, 228); color:grey\">3<br><span class=\"norm\">(0.02)</span></td><td class=\"tg\" style=\"background-color:rgb(234, 225, 228); color:grey\">3<br><span class=\"norm\">(0.02)</span></td></tr><tr>\n",
              "\t<td class=\"tg\">E</td><td class=\"tg\" style=\"background-color:rgb(239, 239, 239); color:grey\">0<br><span class=\"norm\">(0.00)</span></td><td class=\"tg\" style=\"background-color:rgb(234, 225, 229); color:grey\">3<br><span class=\"norm\">(0.02)</span></td><td class=\"tg\" style=\"background-color:rgb(232, 219, 224); color:grey\">5<br><span class=\"norm\">(0.03)</span></td><td class=\"tg\" style=\"background-color:rgb(230, 214, 220); color:grey\">7<br><span class=\"norm\">(0.04)</span></td><td class=\"tg\" style=\"background-color:rgb(160, 20, 76); color:white\">162<br><span class=\"norm\">(0.88)</span></td><td class=\"tg\" style=\"background-color:rgb(230, 214, 220); color:grey\">7<br><span class=\"norm\">(0.04)</span></td></tr><tr>\n",
              "\t<td class=\"tg\">F</td><td class=\"tg\" style=\"background-color:rgb(232, 219, 224); color:grey\">4<br><span class=\"norm\">(0.03)</span></td><td class=\"tg\" style=\"background-color:rgb(233, 223, 227); color:grey\">3<br><span class=\"norm\">(0.02)</span></td><td class=\"tg\" style=\"background-color:rgb(234, 227, 230); color:grey\">2<br><span class=\"norm\">(0.01)</span></td><td class=\"tg\" style=\"background-color:rgb(234, 227, 230); color:grey\">2<br><span class=\"norm\">(0.01)</span></td><td class=\"tg\" style=\"background-color:rgb(232, 219, 224); color:grey\">4<br><span class=\"norm\">(0.03)</span></td><td class=\"tg\" style=\"background-color:rgb(159, 17, 73); color:white\">132<br><span class=\"norm\">(0.90)</span></td></tr>\n",
              "    <tr>\n",
              "      <td class=\"tg\"></td>\n",
              "      <td class=\"tg\"></td>\n",
              "      <td class=\"tg\" style=\"width: 60px;\">A</td><td class=\"tg\" style=\"width: 60px;\">B</td><td class=\"tg\" style=\"width: 60px;\">C</td><td class=\"tg\" style=\"width: 60px;\">D</td><td class=\"tg\" style=\"width: 60px;\">E</td><td class=\"tg\" style=\"width: 60px;\">F</td>\n",
              "    </tr>\n",
              "</tbody>\n",
              "</table>\n",
              "     </div><div class=\"column\"> <style>\n",
              ".cm {height: 250px; display:table-cell; vertical-align:middle;}\n",
              ".tg {border-spacing:0;text-align:center; vertical-align:middle}\n",
              ".tg td {overflow:hidden; padding:8px 6px; word-break:normal;}\n",
              ".tg th {overflow:hidden; word-break:normal;}\n",
              ".ver_text {transform: rotate(-90deg);}\n",
              ".norm {font-size:11.5px}\n",
              "</style>\n",
              "<table class=\"tg\">\n",
              "<thead>\n",
              "    <tr>\n",
              "      <th class=\"tg\" colspan=\"2\" rowspan=\"2\"></th>\n",
              "      <th class=\"tg\" colspan=\"6\">Confusion Matrix<br><span class=\"norm\"></span></th>\n",
              "    </tr>\n",
              "    <tr><td class=\"tg\" colspan=\"6\">Predicted</td></tr>\n",
              "</thead>\n",
              "<tbody>\n",
              "    <tr>\n",
              "\t<td class=\"tg ver_text\" rowspan=\"6\">Actual</td>\n",
              "\t<td class=\"tg\">A</td><td class=\"tg\" style=\"background-color:rgb(12, 109, 12); color:white\">135<br><span class=\"norm\">(0.92)</span></td><td class=\"tg\" style=\"background-color:rgb(231, 234, 231); color:grey\">1<br><span class=\"norm\">(< 0.01)</span></td><td class=\"tg\" style=\"background-color:rgb(216, 226, 216); color:grey\">5<br><span class=\"norm\">(0.03)</span></td><td class=\"tg\" style=\"background-color:rgb(223, 229, 223); color:grey\">3<br><span class=\"norm\">(0.02)</span></td><td class=\"tg\" style=\"background-color:rgb(231, 234, 231); color:grey\">1<br><span class=\"norm\">(< 0.01)</span></td><td class=\"tg\" style=\"background-color:rgb(231, 234, 231); color:grey\">1<br><span class=\"norm\">(< 0.01)</span></td></tr><tr>\n",
              "\t<td class=\"tg\">B</td><td class=\"tg\" style=\"background-color:rgb(220, 228, 220); color:grey\">5<br><span class=\"norm\">(0.03)</span></td><td class=\"tg\" style=\"background-color:rgb(21, 114, 21); color:white\">165<br><span class=\"norm\">(0.87)</span></td><td class=\"tg\" style=\"background-color:rgb(212, 224, 212); color:grey\">8<br><span class=\"norm\">(0.04)</span></td><td class=\"tg\" style=\"background-color:rgb(222, 229, 222); color:grey\">4<br><span class=\"norm\">(0.02)</span></td><td class=\"tg\" style=\"background-color:rgb(222, 229, 222); color:grey\">4<br><span class=\"norm\">(0.02)</span></td><td class=\"tg\" style=\"background-color:rgb(225, 231, 225); color:grey\">3<br><span class=\"norm\">(0.02)</span></td></tr><tr>\n",
              "\t<td class=\"tg\">C</td><td class=\"tg\" style=\"background-color:rgb(231, 234, 231); color:grey\">1<br><span class=\"norm\">(< 0.01)</span></td><td class=\"tg\" style=\"background-color:rgb(227, 232, 227); color:grey\">2<br><span class=\"norm\">(0.01)</span></td><td class=\"tg\" style=\"background-color:rgb(16, 111, 16); color:white\">136<br><span class=\"norm\">(0.90)</span></td><td class=\"tg\" style=\"background-color:rgb(227, 232, 227); color:grey\">2<br><span class=\"norm\">(0.01)</span></td><td class=\"tg\" style=\"background-color:rgb(208, 221, 208); color:grey\">8<br><span class=\"norm\">(0.05)</span></td><td class=\"tg\" style=\"background-color:rgb(227, 232, 227); color:grey\">2<br><span class=\"norm\">(0.01)</span></td></tr><tr>\n",
              "\t<td class=\"tg\">D</td><td class=\"tg\" style=\"background-color:rgb(216, 226, 216); color:grey\">6<br><span class=\"norm\">(0.03)</span></td><td class=\"tg\" style=\"background-color:rgb(228, 233, 228); color:grey\">2<br><span class=\"norm\">(0.01)</span></td><td class=\"tg\" style=\"background-color:rgb(232, 235, 232); color:grey\">1<br><span class=\"norm\">(< 0.01)</span></td><td class=\"tg\" style=\"background-color:rgb(15, 111, 15); color:white\">164<br><span class=\"norm\">(0.91)</span></td><td class=\"tg\" style=\"background-color:rgb(219, 227, 219); color:grey\">5<br><span class=\"norm\">(0.03)</span></td><td class=\"tg\" style=\"background-color:rgb(225, 231, 225); color:grey\">3<br><span class=\"norm\">(0.02)</span></td></tr><tr>\n",
              "\t<td class=\"tg\">E</td><td class=\"tg\" style=\"background-color:rgb(232, 235, 232); color:grey\">1<br><span class=\"norm\">(< 0.01)</span></td><td class=\"tg\" style=\"background-color:rgb(228, 232, 228); color:grey\">2<br><span class=\"norm\">(0.01)</span></td><td class=\"tg\" style=\"background-color:rgb(228, 232, 228); color:grey\">2<br><span class=\"norm\">(0.01)</span></td><td class=\"tg\" style=\"background-color:rgb(228, 232, 228); color:grey\">2<br><span class=\"norm\">(0.01)</span></td><td class=\"tg\" style=\"background-color:rgb(11, 108, 11); color:white\">153<br><span class=\"norm\">(0.93)</span></td><td class=\"tg\" style=\"background-color:rgb(221, 228, 221); color:grey\">4<br><span class=\"norm\">(0.02)</span></td></tr><tr>\n",
              "\t<td class=\"tg\">F</td><td class=\"tg\" style=\"background-color:rgb(224, 230, 224); color:grey\">3<br><span class=\"norm\">(0.02)</span></td><td class=\"tg\" style=\"background-color:rgb(228, 232, 228); color:grey\">2<br><span class=\"norm\">(0.01)</span></td><td class=\"tg\" style=\"background-color:rgb(228, 232, 228); color:grey\">2<br><span class=\"norm\">(0.01)</span></td><td class=\"tg\" style=\"background-color:rgb(224, 230, 224); color:grey\">3<br><span class=\"norm\">(0.02)</span></td><td class=\"tg\" style=\"background-color:rgb(228, 232, 228); color:grey\">2<br><span class=\"norm\">(0.01)</span></td><td class=\"tg\" style=\"background-color:rgb(12, 108, 12); color:white\">157<br><span class=\"norm\">(0.93)</span></td></tr>\n",
              "    <tr>\n",
              "      <td class=\"tg\"></td>\n",
              "      <td class=\"tg\"></td>\n",
              "      <td class=\"tg\" style=\"width: 60px;\">A</td><td class=\"tg\" style=\"width: 60px;\">B</td><td class=\"tg\" style=\"width: 60px;\">C</td><td class=\"tg\" style=\"width: 60px;\">D</td><td class=\"tg\" style=\"width: 60px;\">E</td><td class=\"tg\" style=\"width: 60px;\">F</td>\n",
              "    </tr>\n",
              "</tbody>\n",
              "</table>\n",
              "     </div><div class=\"column\"> <style>\n",
              ".cm {height: 250px; display:table-cell; vertical-align:middle;}\n",
              ".tg {border-spacing:0;text-align:center; vertical-align:middle}\n",
              ".tg td {overflow:hidden; padding:8px 6px; word-break:normal;}\n",
              ".tg th {overflow:hidden; word-break:normal;}\n",
              ".ver_text {transform: rotate(-90deg);}\n",
              ".norm {font-size:11.5px}\n",
              "</style>\n",
              "<table class=\"tg\">\n",
              "<thead>\n",
              "    <tr>\n",
              "      <th class=\"tg\" colspan=\"2\" rowspan=\"2\"></th>\n",
              "      <th class=\"tg\" colspan=\"6\">Confusion Matrix<br><span class=\"norm\"></span></th>\n",
              "    </tr>\n",
              "    <tr><td class=\"tg\" colspan=\"6\">Predicted</td></tr>\n",
              "</thead>\n",
              "<tbody>\n",
              "    <tr>\n",
              "\t<td class=\"tg ver_text\" rowspan=\"6\">Actual</td>\n",
              "\t<td class=\"tg\">A</td><td class=\"tg\" style=\"background-color:rgb(157, 121, 13); color:white\">166<br><span class=\"norm\">(0.92)</span></td><td class=\"tg\" style=\"background-color:rgb(235, 233, 228); color:grey\">2<br><span class=\"norm\">(0.01)</span></td><td class=\"tg\" style=\"background-color:rgb(235, 233, 228); color:grey\">2<br><span class=\"norm\">(0.01)</span></td><td class=\"tg\" style=\"background-color:rgb(234, 231, 225); color:grey\">3<br><span class=\"norm\">(0.02)</span></td><td class=\"tg\" style=\"background-color:rgb(233, 230, 222); color:grey\">4<br><span class=\"norm\">(0.02)</span></td><td class=\"tg\" style=\"background-color:rgb(234, 231, 225); color:grey\">3<br><span class=\"norm\">(0.02)</span></td></tr><tr>\n",
              "\t<td class=\"tg\">B</td><td class=\"tg\" style=\"background-color:rgb(233, 230, 222); color:grey\">4<br><span class=\"norm\">(0.02)</span></td><td class=\"tg\" style=\"background-color:rgb(159, 124, 18); color:white\">167<br><span class=\"norm\">(0.89)</span></td><td class=\"tg\" style=\"background-color:rgb(233, 230, 222); color:grey\">4<br><span class=\"norm\">(0.02)</span></td><td class=\"tg\" style=\"background-color:rgb(236, 235, 232); color:grey\">1<br><span class=\"norm\">(< 0.01)</span></td><td class=\"tg\" style=\"background-color:rgb(232, 229, 220); color:grey\">5<br><span class=\"norm\">(0.03)</span></td><td class=\"tg\" style=\"background-color:rgb(231, 227, 217); color:grey\">6<br><span class=\"norm\">(0.03)</span></td></tr><tr>\n",
              "\t<td class=\"tg\">C</td><td class=\"tg\" style=\"background-color:rgb(232, 230, 221); color:grey\">4<br><span class=\"norm\">(0.02)</span></td><td class=\"tg\" style=\"background-color:rgb(233, 231, 225); color:grey\">3<br><span class=\"norm\">(0.02)</span></td><td class=\"tg\" style=\"background-color:rgb(158, 123, 15); color:white\">157<br><span class=\"norm\">(0.91)</span></td><td class=\"tg\" style=\"background-color:rgb(232, 230, 221); color:grey\">4<br><span class=\"norm\">(0.02)</span></td><td class=\"tg\" style=\"background-color:rgb(232, 230, 221); color:grey\">4<br><span class=\"norm\">(0.02)</span></td><td class=\"tg\" style=\"background-color:rgb(236, 235, 232); color:grey\">1<br><span class=\"norm\">(< 0.01)</span></td></tr><tr>\n",
              "\t<td class=\"tg\">D</td><td class=\"tg\" style=\"background-color:rgb(236, 235, 231); color:grey\">1<br><span class=\"norm\">(< 0.01)</span></td><td class=\"tg\" style=\"background-color:rgb(231, 227, 217); color:grey\">5<br><span class=\"norm\">(0.03)</span></td><td class=\"tg\" style=\"background-color:rgb(232, 229, 220); color:grey\">4<br><span class=\"norm\">(0.03)</span></td><td class=\"tg\" style=\"background-color:rgb(161, 127, 24); color:white\">132<br><span class=\"norm\">(0.86)</span></td><td class=\"tg\" style=\"background-color:rgb(229, 224, 211); color:grey\">7<br><span class=\"norm\">(0.05)</span></td><td class=\"tg\" style=\"background-color:rgb(231, 227, 217); color:grey\">5<br><span class=\"norm\">(0.03)</span></td></tr><tr>\n",
              "\t<td class=\"tg\">E</td><td class=\"tg\" style=\"background-color:rgb(236, 235, 232); color:grey\">1<br><span class=\"norm\">(< 0.01)</span></td><td class=\"tg\" style=\"background-color:rgb(233, 231, 224); color:grey\">3<br><span class=\"norm\">(0.02)</span></td><td class=\"tg\" style=\"background-color:rgb(233, 231, 224); color:grey\">3<br><span class=\"norm\">(0.02)</span></td><td class=\"tg\" style=\"background-color:rgb(231, 228, 218); color:grey\">5<br><span class=\"norm\">(0.03)</span></td><td class=\"tg\" style=\"background-color:rgb(159, 123, 17); color:white\">151<br><span class=\"norm\">(0.90)</span></td><td class=\"tg\" style=\"background-color:rgb(231, 228, 218); color:grey\">5<br><span class=\"norm\">(0.03)</span></td></tr><tr>\n",
              "\t<td class=\"tg\">F</td><td class=\"tg\" style=\"background-color:rgb(231, 228, 218); color:grey\">4<br><span class=\"norm\">(0.03)</span></td><td class=\"tg\" style=\"background-color:rgb(233, 230, 222); color:grey\">3<br><span class=\"norm\">(0.02)</span></td><td class=\"tg\" style=\"background-color:rgb(230, 226, 215); color:grey\">5<br><span class=\"norm\">(0.04)</span></td><td class=\"tg\" style=\"background-color:rgb(231, 228, 218); color:grey\">4<br><span class=\"norm\">(0.03)</span></td><td class=\"tg\" style=\"background-color:rgb(234, 232, 226); color:grey\">2<br><span class=\"norm\">(0.01)</span></td><td class=\"tg\" style=\"background-color:rgb(161, 126, 22); color:white\">120<br><span class=\"norm\">(0.87)</span></td></tr>\n",
              "    <tr>\n",
              "      <td class=\"tg\"></td>\n",
              "      <td class=\"tg\"></td>\n",
              "      <td class=\"tg\" style=\"width: 60px;\">A</td><td class=\"tg\" style=\"width: 60px;\">B</td><td class=\"tg\" style=\"width: 60px;\">C</td><td class=\"tg\" style=\"width: 60px;\">D</td><td class=\"tg\" style=\"width: 60px;\">E</td><td class=\"tg\" style=\"width: 60px;\">F</td>\n",
              "    </tr>\n",
              "</tbody>\n",
              "</table>\n",
              "     </div><div class=\"column\"> <style>\n",
              ".cm {height: 250px; display:table-cell; vertical-align:middle;}\n",
              ".tg {border-spacing:0;text-align:center; vertical-align:middle}\n",
              ".tg td {overflow:hidden; padding:8px 6px; word-break:normal;}\n",
              ".tg th {overflow:hidden; word-break:normal;}\n",
              ".ver_text {transform: rotate(-90deg);}\n",
              ".norm {font-size:11.5px}\n",
              "</style>\n",
              "<table class=\"tg\">\n",
              "<thead>\n",
              "    <tr>\n",
              "      <th class=\"tg\" colspan=\"2\" rowspan=\"2\"></th>\n",
              "      <th class=\"tg\" colspan=\"6\">Confusion Matrix<br><span class=\"norm\"></span></th>\n",
              "    </tr>\n",
              "    <tr><td class=\"tg\" colspan=\"6\">Predicted</td></tr>\n",
              "</thead>\n",
              "<tbody>\n",
              "    <tr>\n",
              "\t<td class=\"tg ver_text\" rowspan=\"6\">Actual</td>\n",
              "\t<td class=\"tg\">A</td><td class=\"tg\" style=\"background-color:rgb(12, 53, 134); color:white\">157<br><span class=\"norm\">(0.92)</span></td><td class=\"tg\" style=\"background-color:rgb(224, 227, 232); color:grey\">3<br><span class=\"norm\">(0.02)</span></td><td class=\"tg\" style=\"background-color:rgb(228, 230, 234); color:grey\">2<br><span class=\"norm\">(0.01)</span></td><td class=\"tg\" style=\"background-color:rgb(232, 233, 235); color:grey\">1<br><span class=\"norm\">(< 0.01)</span></td><td class=\"tg\" style=\"background-color:rgb(224, 227, 232); color:grey\">3<br><span class=\"norm\">(0.02)</span></td><td class=\"tg\" style=\"background-color:rgb(221, 224, 230); color:grey\">4<br><span class=\"norm\">(0.02)</span></td></tr><tr>\n",
              "\t<td class=\"tg\">B</td><td class=\"tg\" style=\"background-color:rgb(223, 225, 231); color:grey\">3<br><span class=\"norm\">(0.02)</span></td><td class=\"tg\" style=\"background-color:rgb(17, 57, 136); color:white\">129<br><span class=\"norm\">(0.90)</span></td><td class=\"tg\" style=\"background-color:rgb(239, 239, 239); color:grey\">0<br><span class=\"norm\">(0.00)</span></td><td class=\"tg\" style=\"background-color:rgb(216, 220, 228); color:grey\">5<br><span class=\"norm\">(0.03)</span></td><td class=\"tg\" style=\"background-color:rgb(213, 217, 227); color:grey\">6<br><span class=\"norm\">(0.04)</span></td><td class=\"tg\" style=\"background-color:rgb(231, 232, 235); color:grey\">1<br><span class=\"norm\">(< 0.01)</span></td></tr><tr>\n",
              "\t<td class=\"tg\">C</td><td class=\"tg\" style=\"background-color:rgb(229, 230, 234); color:grey\">2<br><span class=\"norm\">(0.01)</span></td><td class=\"tg\" style=\"background-color:rgb(232, 234, 236); color:grey\">1<br><span class=\"norm\">(< 0.01)</span></td><td class=\"tg\" style=\"background-color:rgb(17, 57, 136); color:white\">171<br><span class=\"norm\">(0.90)</span></td><td class=\"tg\" style=\"background-color:rgb(215, 219, 228); color:grey\">7<br><span class=\"norm\">(0.04)</span></td><td class=\"tg\" style=\"background-color:rgb(215, 219, 228); color:grey\">7<br><span class=\"norm\">(0.04)</span></td><td class=\"tg\" style=\"background-color:rgb(225, 228, 232); color:grey\">3<br><span class=\"norm\">(0.02)</span></td></tr><tr>\n",
              "\t<td class=\"tg\">D</td><td class=\"tg\" style=\"background-color:rgb(216, 220, 228); color:grey\">6<br><span class=\"norm\">(0.03)</span></td><td class=\"tg\" style=\"background-color:rgb(216, 220, 228); color:grey\">6<br><span class=\"norm\">(0.03)</span></td><td class=\"tg\" style=\"background-color:rgb(228, 230, 234); color:grey\">2<br><span class=\"norm\">(0.01)</span></td><td class=\"tg\" style=\"background-color:rgb(18, 57, 136); color:white\">158<br><span class=\"norm\">(0.89)</span></td><td class=\"tg\" style=\"background-color:rgb(225, 227, 232); color:grey\">3<br><span class=\"norm\">(0.02)</span></td><td class=\"tg\" style=\"background-color:rgb(228, 230, 234); color:grey\">2<br><span class=\"norm\">(0.01)</span></td></tr><tr>\n",
              "\t<td class=\"tg\">E</td><td class=\"tg\" style=\"background-color:rgb(228, 230, 233); color:grey\">2<br><span class=\"norm\">(0.01)</span></td><td class=\"tg\" style=\"background-color:rgb(228, 230, 233); color:grey\">2<br><span class=\"norm\">(0.01)</span></td><td class=\"tg\" style=\"background-color:rgb(228, 230, 233); color:grey\">2<br><span class=\"norm\">(0.01)</span></td><td class=\"tg\" style=\"background-color:rgb(228, 230, 233); color:grey\">2<br><span class=\"norm\">(0.01)</span></td><td class=\"tg\" style=\"background-color:rgb(11, 52, 133); color:white\">156<br><span class=\"norm\">(0.93)</span></td><td class=\"tg\" style=\"background-color:rgb(224, 227, 232); color:grey\">3<br><span class=\"norm\">(0.02)</span></td></tr><tr>\n",
              "\t<td class=\"tg\">F</td><td class=\"tg\" style=\"background-color:rgb(211, 216, 226); color:grey\">7<br><span class=\"norm\">(0.05)</span></td><td class=\"tg\" style=\"background-color:rgb(223, 226, 231); color:grey\">3<br><span class=\"norm\">(0.02)</span></td><td class=\"tg\" style=\"background-color:rgb(239, 239, 239); color:grey\">0<br><span class=\"norm\">(0.00)</span></td><td class=\"tg\" style=\"background-color:rgb(223, 226, 231); color:grey\">3<br><span class=\"norm\">(0.02)</span></td><td class=\"tg\" style=\"background-color:rgb(217, 220, 228); color:grey\">5<br><span class=\"norm\">(0.03)</span></td><td class=\"tg\" style=\"background-color:rgb(20, 59, 137); color:white\">133<br><span class=\"norm\">(0.88)</span></td></tr>\n",
              "    <tr>\n",
              "      <td class=\"tg\"></td>\n",
              "      <td class=\"tg\"></td>\n",
              "      <td class=\"tg\" style=\"width: 60px;\">A</td><td class=\"tg\" style=\"width: 60px;\">B</td><td class=\"tg\" style=\"width: 60px;\">C</td><td class=\"tg\" style=\"width: 60px;\">D</td><td class=\"tg\" style=\"width: 60px;\">E</td><td class=\"tg\" style=\"width: 60px;\">F</td>\n",
              "    </tr>\n",
              "</tbody>\n",
              "</table>\n",
              "     </div><div class=\"column\"> <style>\n",
              ".cm {height: 250px; display:table-cell; vertical-align:middle;}\n",
              ".tg {border-spacing:0;text-align:center; vertical-align:middle}\n",
              ".tg td {overflow:hidden; padding:8px 6px; word-break:normal;}\n",
              ".tg th {overflow:hidden; word-break:normal;}\n",
              ".ver_text {transform: rotate(-90deg);}\n",
              ".norm {font-size:11.5px}\n",
              "</style>\n",
              "<table class=\"tg\">\n",
              "<thead>\n",
              "    <tr>\n",
              "      <th class=\"tg\" colspan=\"2\" rowspan=\"2\"></th>\n",
              "      <th class=\"tg\" colspan=\"6\">Confusion Matrix<br><span class=\"norm\"></span></th>\n",
              "    </tr>\n",
              "    <tr><td class=\"tg\" colspan=\"6\">Predicted</td></tr>\n",
              "</thead>\n",
              "<tbody>\n",
              "    <tr>\n",
              "\t<td class=\"tg ver_text\" rowspan=\"6\">Actual</td>\n",
              "\t<td class=\"tg\">A</td><td class=\"tg\" style=\"background-color:rgb(14, 94, 134); color:white\">136<br><span class=\"norm\">(0.91)</span></td><td class=\"tg\" style=\"background-color:rgb(223, 228, 231); color:grey\">3<br><span class=\"norm\">(0.02)</span></td><td class=\"tg\" style=\"background-color:rgb(227, 231, 233); color:grey\">2<br><span class=\"norm\">(0.01)</span></td><td class=\"tg\" style=\"background-color:rgb(223, 228, 231); color:grey\">3<br><span class=\"norm\">(0.02)</span></td><td class=\"tg\" style=\"background-color:rgb(227, 231, 233); color:grey\">2<br><span class=\"norm\">(0.01)</span></td><td class=\"tg\" style=\"background-color:rgb(223, 228, 231); color:grey\">3<br><span class=\"norm\">(0.02)</span></td></tr><tr>\n",
              "\t<td class=\"tg\">B</td><td class=\"tg\" style=\"background-color:rgb(239, 239, 239); color:grey\">0<br><span class=\"norm\">(0.00)</span></td><td class=\"tg\" style=\"background-color:rgb(18, 97, 136); color:white\">136<br><span class=\"norm\">(0.89)</span></td><td class=\"tg\" style=\"background-color:rgb(217, 224, 228); color:grey\">5<br><span class=\"norm\">(0.03)</span></td><td class=\"tg\" style=\"background-color:rgb(223, 229, 231); color:grey\">3<br><span class=\"norm\">(0.02)</span></td><td class=\"tg\" style=\"background-color:rgb(217, 224, 228); color:grey\">5<br><span class=\"norm\">(0.03)</span></td><td class=\"tg\" style=\"background-color:rgb(220, 226, 230); color:grey\">4<br><span class=\"norm\">(0.03)</span></td></tr><tr>\n",
              "\t<td class=\"tg\">C</td><td class=\"tg\" style=\"background-color:rgb(228, 232, 234); color:grey\">2<br><span class=\"norm\">(0.01)</span></td><td class=\"tg\" style=\"background-color:rgb(225, 230, 232); color:grey\">3<br><span class=\"norm\">(0.02)</span></td><td class=\"tg\" style=\"background-color:rgb(11, 92, 133); color:white\">163<br><span class=\"norm\">(0.93)</span></td><td class=\"tg\" style=\"background-color:rgb(225, 230, 232); color:grey\">3<br><span class=\"norm\">(0.02)</span></td><td class=\"tg\" style=\"background-color:rgb(232, 234, 236); color:grey\">1<br><span class=\"norm\">(< 0.01)</span></td><td class=\"tg\" style=\"background-color:rgb(225, 230, 232); color:grey\">3<br><span class=\"norm\">(0.02)</span></td></tr><tr>\n",
              "\t<td class=\"tg\">D</td><td class=\"tg\" style=\"background-color:rgb(219, 226, 229); color:grey\">5<br><span class=\"norm\">(0.03)</span></td><td class=\"tg\" style=\"background-color:rgb(221, 228, 231); color:grey\">4<br><span class=\"norm\">(0.02)</span></td><td class=\"tg\" style=\"background-color:rgb(225, 230, 232); color:grey\">3<br><span class=\"norm\">(0.02)</span></td><td class=\"tg\" style=\"background-color:rgb(21, 98, 138); color:white\">152<br><span class=\"norm\">(0.87)</span></td><td class=\"tg\" style=\"background-color:rgb(225, 230, 232); color:grey\">3<br><span class=\"norm\">(0.02)</span></td><td class=\"tg\" style=\"background-color:rgb(213, 222, 227); color:grey\">7<br><span class=\"norm\">(0.04)</span></td></tr><tr>\n",
              "\t<td class=\"tg\">E</td><td class=\"tg\" style=\"background-color:rgb(232, 234, 235); color:grey\">1<br><span class=\"norm\">(< 0.01)</span></td><td class=\"tg\" style=\"background-color:rgb(224, 229, 232); color:grey\">3<br><span class=\"norm\">(0.02)</span></td><td class=\"tg\" style=\"background-color:rgb(224, 229, 232); color:grey\">3<br><span class=\"norm\">(0.02)</span></td><td class=\"tg\" style=\"background-color:rgb(224, 229, 232); color:grey\">3<br><span class=\"norm\">(0.02)</span></td><td class=\"tg\" style=\"background-color:rgb(13, 93, 134); color:white\">156<br><span class=\"norm\">(0.92)</span></td><td class=\"tg\" style=\"background-color:rgb(224, 229, 232); color:grey\">3<br><span class=\"norm\">(0.02)</span></td></tr><tr>\n",
              "\t<td class=\"tg\">F</td><td class=\"tg\" style=\"background-color:rgb(228, 232, 234); color:grey\">2<br><span class=\"norm\">(0.01)</span></td><td class=\"tg\" style=\"background-color:rgb(225, 230, 232); color:grey\">3<br><span class=\"norm\">(0.02)</span></td><td class=\"tg\" style=\"background-color:rgb(222, 228, 231); color:grey\">4<br><span class=\"norm\">(0.02)</span></td><td class=\"tg\" style=\"background-color:rgb(216, 224, 228); color:grey\">6<br><span class=\"norm\">(0.03)</span></td><td class=\"tg\" style=\"background-color:rgb(222, 228, 231); color:grey\">4<br><span class=\"norm\">(0.02)</span></td><td class=\"tg\" style=\"background-color:rgb(17, 96, 136); color:white\">161<br><span class=\"norm\">(0.89)</span></td></tr>\n",
              "    <tr>\n",
              "      <td class=\"tg\"></td>\n",
              "      <td class=\"tg\"></td>\n",
              "      <td class=\"tg\" style=\"width: 60px;\">A</td><td class=\"tg\" style=\"width: 60px;\">B</td><td class=\"tg\" style=\"width: 60px;\">C</td><td class=\"tg\" style=\"width: 60px;\">D</td><td class=\"tg\" style=\"width: 60px;\">E</td><td class=\"tg\" style=\"width: 60px;\">F</td>\n",
              "    </tr>\n",
              "</tbody>\n",
              "</table>\n",
              "     </div><div class=\"column\"> <style>\n",
              ".cm {height: 250px; display:table-cell; vertical-align:middle;}\n",
              ".tg {border-spacing:0;text-align:center; vertical-align:middle}\n",
              ".tg td {overflow:hidden; padding:8px 6px; word-break:normal;}\n",
              ".tg th {overflow:hidden; word-break:normal;}\n",
              ".ver_text {transform: rotate(-90deg);}\n",
              ".norm {font-size:11.5px}\n",
              "</style>\n",
              "<table class=\"tg\">\n",
              "<thead>\n",
              "    <tr>\n",
              "      <th class=\"tg\" colspan=\"2\" rowspan=\"2\"></th>\n",
              "      <th class=\"tg\" colspan=\"6\">Confusion Matrix<br><span class=\"norm\"></span></th>\n",
              "    </tr>\n",
              "    <tr><td class=\"tg\" colspan=\"6\">Predicted</td></tr>\n",
              "</thead>\n",
              "<tbody>\n",
              "    <tr>\n",
              "\t<td class=\"tg ver_text\" rowspan=\"6\">Actual</td>\n",
              "\t<td class=\"tg\">A</td><td class=\"tg\" style=\"background-color:rgb(123, 51, 123); color:white\">150<br><span class=\"norm\">(0.90)</span></td><td class=\"tg\" style=\"background-color:rgb(229, 224, 229); color:grey\">4<br><span class=\"norm\">(0.02)</span></td><td class=\"tg\" style=\"background-color:rgb(239, 239, 239); color:grey\">0<br><span class=\"norm\">(0.00)</span></td><td class=\"tg\" style=\"background-color:rgb(226, 219, 226); color:grey\">6<br><span class=\"norm\">(0.04)</span></td><td class=\"tg\" style=\"background-color:rgb(231, 226, 231); color:grey\">3<br><span class=\"norm\">(0.02)</span></td><td class=\"tg\" style=\"background-color:rgb(231, 226, 231); color:grey\">3<br><span class=\"norm\">(0.02)</span></td></tr><tr>\n",
              "\t<td class=\"tg\">B</td><td class=\"tg\" style=\"background-color:rgb(227, 221, 227); color:grey\">5<br><span class=\"norm\">(0.03)</span></td><td class=\"tg\" style=\"background-color:rgb(124, 53, 124); color:white\">142<br><span class=\"norm\">(0.89)</span></td><td class=\"tg\" style=\"background-color:rgb(233, 229, 233); color:grey\">2<br><span class=\"norm\">(0.01)</span></td><td class=\"tg\" style=\"background-color:rgb(225, 216, 225); color:grey\">7<br><span class=\"norm\">(0.04)</span></td><td class=\"tg\" style=\"background-color:rgb(235, 233, 235); color:grey\">1<br><span class=\"norm\">(< 0.01)</span></td><td class=\"tg\" style=\"background-color:rgb(233, 229, 233); color:grey\">2<br><span class=\"norm\">(0.01)</span></td></tr><tr>\n",
              "\t<td class=\"tg\">C</td><td class=\"tg\" style=\"background-color:rgb(231, 227, 231); color:grey\">3<br><span class=\"norm\">(0.02)</span></td><td class=\"tg\" style=\"background-color:rgb(231, 227, 231); color:grey\">3<br><span class=\"norm\">(0.02)</span></td><td class=\"tg\" style=\"background-color:rgb(124, 52, 124); color:white\">154<br><span class=\"norm\">(0.90)</span></td><td class=\"tg\" style=\"background-color:rgb(235, 233, 235); color:grey\">1<br><span class=\"norm\">(< 0.01)</span></td><td class=\"tg\" style=\"background-color:rgb(225, 217, 225); color:grey\">7<br><span class=\"norm\">(0.04)</span></td><td class=\"tg\" style=\"background-color:rgb(230, 224, 230); color:grey\">4<br><span class=\"norm\">(0.02)</span></td></tr><tr>\n",
              "\t<td class=\"tg\">D</td><td class=\"tg\" style=\"background-color:rgb(233, 229, 233); color:grey\">2<br><span class=\"norm\">(0.01)</span></td><td class=\"tg\" style=\"background-color:rgb(233, 229, 233); color:grey\">2<br><span class=\"norm\">(0.01)</span></td><td class=\"tg\" style=\"background-color:rgb(228, 221, 228); color:grey\">5<br><span class=\"norm\">(0.03)</span></td><td class=\"tg\" style=\"background-color:rgb(122, 50, 122); color:white\">153<br><span class=\"norm\">(0.91)</span></td><td class=\"tg\" style=\"background-color:rgb(233, 229, 233); color:grey\">2<br><span class=\"norm\">(0.01)</span></td><td class=\"tg\" style=\"background-color:rgb(229, 224, 229); color:grey\">4<br><span class=\"norm\">(0.02)</span></td></tr><tr>\n",
              "\t<td class=\"tg\">E</td><td class=\"tg\" style=\"background-color:rgb(228, 221, 228); color:grey\">5<br><span class=\"norm\">(0.03)</span></td><td class=\"tg\" style=\"background-color:rgb(231, 227, 231); color:grey\">3<br><span class=\"norm\">(0.02)</span></td><td class=\"tg\" style=\"background-color:rgb(235, 233, 235); color:grey\">1<br><span class=\"norm\">(< 0.01)</span></td><td class=\"tg\" style=\"background-color:rgb(230, 224, 230); color:grey\">4<br><span class=\"norm\">(0.02)</span></td><td class=\"tg\" style=\"background-color:rgb(125, 54, 125); color:white\">150<br><span class=\"norm\">(0.88)</span></td><td class=\"tg\" style=\"background-color:rgb(225, 217, 225); color:grey\">7<br><span class=\"norm\">(0.04)</span></td></tr><tr>\n",
              "\t<td class=\"tg\">F</td><td class=\"tg\" style=\"background-color:rgb(231, 226, 231); color:grey\">3<br><span class=\"norm\">(0.02)</span></td><td class=\"tg\" style=\"background-color:rgb(235, 233, 235); color:grey\">1<br><span class=\"norm\">(< 0.01)</span></td><td class=\"tg\" style=\"background-color:rgb(228, 221, 228); color:grey\">5<br><span class=\"norm\">(0.03)</span></td><td class=\"tg\" style=\"background-color:rgb(235, 233, 235); color:grey\">1<br><span class=\"norm\">(< 0.01)</span></td><td class=\"tg\" style=\"background-color:rgb(228, 221, 228); color:grey\">5<br><span class=\"norm\">(0.03)</span></td><td class=\"tg\" style=\"background-color:rgb(123, 50, 123); color:white\">150<br><span class=\"norm\">(0.91)</span></td></tr>\n",
              "    <tr>\n",
              "      <td class=\"tg\"></td>\n",
              "      <td class=\"tg\"></td>\n",
              "      <td class=\"tg\" style=\"width: 60px;\">A</td><td class=\"tg\" style=\"width: 60px;\">B</td><td class=\"tg\" style=\"width: 60px;\">C</td><td class=\"tg\" style=\"width: 60px;\">D</td><td class=\"tg\" style=\"width: 60px;\">E</td><td class=\"tg\" style=\"width: 60px;\">F</td>\n",
              "    </tr>\n",
              "</tbody>\n",
              "</table>\n",
              "     </div><div class=\"column\"> <style>\n",
              ".cm {height: 250px; display:table-cell; vertical-align:middle;}\n",
              ".tg {border-spacing:0;text-align:center; vertical-align:middle}\n",
              ".tg td {overflow:hidden; padding:8px 6px; word-break:normal;}\n",
              ".tg th {overflow:hidden; word-break:normal;}\n",
              ".ver_text {transform: rotate(-90deg);}\n",
              ".norm {font-size:11.5px}\n",
              "</style>\n",
              "<table class=\"tg\">\n",
              "<thead>\n",
              "    <tr>\n",
              "      <th class=\"tg\" colspan=\"2\" rowspan=\"2\"></th>\n",
              "      <th class=\"tg\" colspan=\"6\">Confusion Matrix<br><span class=\"norm\"></span></th>\n",
              "    </tr>\n",
              "    <tr><td class=\"tg\" colspan=\"6\">Predicted</td></tr>\n",
              "</thead>\n",
              "<tbody>\n",
              "    <tr>\n",
              "\t<td class=\"tg ver_text\" rowspan=\"6\">Actual</td>\n",
              "\t<td class=\"tg\">A</td><td class=\"tg\" style=\"background-color:rgb(182, 81, 15); color:white\">150<br><span class=\"norm\">(0.91)</span></td><td class=\"tg\" style=\"background-color:rgb(237, 234, 232); color:grey\">1<br><span class=\"norm\">(< 0.01)</span></td><td class=\"tg\" style=\"background-color:rgb(236, 231, 228); color:grey\">2<br><span class=\"norm\">(0.01)</span></td><td class=\"tg\" style=\"background-color:rgb(234, 226, 221); color:grey\">4<br><span class=\"norm\">(0.02)</span></td><td class=\"tg\" style=\"background-color:rgb(233, 222, 215); color:grey\">6<br><span class=\"norm\">(0.04)</span></td><td class=\"tg\" style=\"background-color:rgb(236, 231, 228); color:grey\">2<br><span class=\"norm\">(0.01)</span></td></tr><tr>\n",
              "\t<td class=\"tg\">B</td><td class=\"tg\" style=\"background-color:rgb(236, 231, 228); color:grey\">2<br><span class=\"norm\">(0.01)</span></td><td class=\"tg\" style=\"background-color:rgb(182, 80, 13); color:white\">161<br><span class=\"norm\">(0.92)</span></td><td class=\"tg\" style=\"background-color:rgb(235, 229, 225); color:grey\">3<br><span class=\"norm\">(0.02)</span></td><td class=\"tg\" style=\"background-color:rgb(237, 234, 232); color:grey\">1<br><span class=\"norm\">(< 0.01)</span></td><td class=\"tg\" style=\"background-color:rgb(234, 225, 219); color:grey\">5<br><span class=\"norm\">(0.03)</span></td><td class=\"tg\" style=\"background-color:rgb(235, 229, 225); color:grey\">3<br><span class=\"norm\">(0.02)</span></td></tr><tr>\n",
              "\t<td class=\"tg\">C</td><td class=\"tg\" style=\"background-color:rgb(237, 234, 232); color:grey\">1<br><span class=\"norm\">(< 0.01)</span></td><td class=\"tg\" style=\"background-color:rgb(236, 231, 228); color:grey\">2<br><span class=\"norm\">(0.01)</span></td><td class=\"tg\" style=\"background-color:rgb(182, 81, 14); color:white\">170<br><span class=\"norm\">(0.91)</span></td><td class=\"tg\" style=\"background-color:rgb(233, 223, 217); color:grey\">6<br><span class=\"norm\">(0.03)</span></td><td class=\"tg\" style=\"background-color:rgb(234, 227, 222); color:grey\">4<br><span class=\"norm\">(0.02)</span></td><td class=\"tg\" style=\"background-color:rgb(235, 229, 225); color:grey\">3<br><span class=\"norm\">(0.02)</span></td></tr><tr>\n",
              "\t<td class=\"tg\">D</td><td class=\"tg\" style=\"background-color:rgb(234, 225, 220); color:grey\">4<br><span class=\"norm\">(0.03)</span></td><td class=\"tg\" style=\"background-color:rgb(233, 223, 217); color:grey\">5<br><span class=\"norm\">(0.03)</span></td><td class=\"tg\" style=\"background-color:rgb(235, 228, 223); color:grey\">3<br><span class=\"norm\">(0.02)</span></td><td class=\"tg\" style=\"background-color:rgb(184, 85, 21); color:white\">134<br><span class=\"norm\">(0.88)</span></td><td class=\"tg\" style=\"background-color:rgb(234, 225, 220); color:grey\">4<br><span class=\"norm\">(0.03)</span></td><td class=\"tg\" style=\"background-color:rgb(235, 228, 223); color:grey\">3<br><span class=\"norm\">(0.02)</span></td></tr><tr>\n",
              "\t<td class=\"tg\">E</td><td class=\"tg\" style=\"background-color:rgb(239, 239, 239); color:grey\">0<br><span class=\"norm\">(0.00)</span></td><td class=\"tg\" style=\"background-color:rgb(233, 223, 217); color:grey\">5<br><span class=\"norm\">(0.03)</span></td><td class=\"tg\" style=\"background-color:rgb(236, 230, 227); color:grey\">2<br><span class=\"norm\">(0.01)</span></td><td class=\"tg\" style=\"background-color:rgb(233, 223, 217); color:grey\">5<br><span class=\"norm\">(0.03)</span></td><td class=\"tg\" style=\"background-color:rgb(183, 83, 17); color:white\">137<br><span class=\"norm\">(0.90)</span></td><td class=\"tg\" style=\"background-color:rgb(234, 225, 220); color:grey\">4<br><span class=\"norm\">(0.03)</span></td></tr><tr>\n",
              "\t<td class=\"tg\">F</td><td class=\"tg\" style=\"background-color:rgb(236, 231, 228); color:grey\">2<br><span class=\"norm\">(0.01)</span></td><td class=\"tg\" style=\"background-color:rgb(233, 224, 218); color:grey\">5<br><span class=\"norm\">(0.03)</span></td><td class=\"tg\" style=\"background-color:rgb(233, 224, 218); color:grey\">5<br><span class=\"norm\">(0.03)</span></td><td class=\"tg\" style=\"background-color:rgb(236, 231, 228); color:grey\">2<br><span class=\"norm\">(0.01)</span></td><td class=\"tg\" style=\"background-color:rgb(233, 224, 218); color:grey\">5<br><span class=\"norm\">(0.03)</span></td><td class=\"tg\" style=\"background-color:rgb(183, 84, 19); color:white\">149<br><span class=\"norm\">(0.89)</span></td></tr>\n",
              "    <tr>\n",
              "      <td class=\"tg\"></td>\n",
              "      <td class=\"tg\"></td>\n",
              "      <td class=\"tg\" style=\"width: 60px;\">A</td><td class=\"tg\" style=\"width: 60px;\">B</td><td class=\"tg\" style=\"width: 60px;\">C</td><td class=\"tg\" style=\"width: 60px;\">D</td><td class=\"tg\" style=\"width: 60px;\">E</td><td class=\"tg\" style=\"width: 60px;\">F</td>\n",
              "    </tr>\n",
              "</tbody>\n",
              "</table>\n",
              "     </div><div class=\"column\"> <style>\n",
              ".cm {height: 250px; display:table-cell; vertical-align:middle;}\n",
              ".tg {border-spacing:0;text-align:center; vertical-align:middle}\n",
              ".tg td {overflow:hidden; padding:8px 6px; word-break:normal;}\n",
              ".tg th {overflow:hidden; word-break:normal;}\n",
              ".ver_text {transform: rotate(-90deg);}\n",
              ".norm {font-size:11.5px}\n",
              "</style>\n",
              "<table class=\"tg\">\n",
              "<thead>\n",
              "    <tr>\n",
              "      <th class=\"tg\" colspan=\"2\" rowspan=\"2\"></th>\n",
              "      <th class=\"tg\" colspan=\"6\">Confusion Matrix<br><span class=\"norm\"></span></th>\n",
              "    </tr>\n",
              "    <tr><td class=\"tg\" colspan=\"6\">Predicted</td></tr>\n",
              "</thead>\n",
              "<tbody>\n",
              "    <tr>\n",
              "\t<td class=\"tg ver_text\" rowspan=\"6\">Actual</td>\n",
              "\t<td class=\"tg\">A</td><td class=\"tg\" style=\"background-color:rgb(134, 134, 13); color:white\">168<br><span class=\"norm\">(0.92)</span></td><td class=\"tg\" style=\"background-color:rgb(231, 231, 222); color:grey\">4<br><span class=\"norm\">(0.02)</span></td><td class=\"tg\" style=\"background-color:rgb(236, 236, 232); color:grey\">1<br><span class=\"norm\">(< 0.01)</span></td><td class=\"tg\" style=\"background-color:rgb(231, 231, 222); color:grey\">4<br><span class=\"norm\">(0.02)</span></td><td class=\"tg\" style=\"background-color:rgb(231, 231, 222); color:grey\">4<br><span class=\"norm\">(0.02)</span></td><td class=\"tg\" style=\"background-color:rgb(234, 234, 228); color:grey\">2<br><span class=\"norm\">(0.01)</span></td></tr><tr>\n",
              "\t<td class=\"tg\">B</td><td class=\"tg\" style=\"background-color:rgb(229, 229, 218); color:grey\">5<br><span class=\"norm\">(0.03)</span></td><td class=\"tg\" style=\"background-color:rgb(135, 135, 15); color:white\">150<br><span class=\"norm\">(0.91)</span></td><td class=\"tg\" style=\"background-color:rgb(232, 232, 224); color:grey\">3<br><span class=\"norm\">(0.02)</span></td><td class=\"tg\" style=\"background-color:rgb(232, 232, 224); color:grey\">3<br><span class=\"norm\">(0.02)</span></td><td class=\"tg\" style=\"background-color:rgb(239, 239, 239); color:grey\">0<br><span class=\"norm\">(0.00)</span></td><td class=\"tg\" style=\"background-color:rgb(230, 230, 221); color:grey\">4<br><span class=\"norm\">(0.02)</span></td></tr><tr>\n",
              "\t<td class=\"tg\">C</td><td class=\"tg\" style=\"background-color:rgb(235, 235, 231); color:grey\">1<br><span class=\"norm\">(< 0.01)</span></td><td class=\"tg\" style=\"background-color:rgb(235, 235, 231); color:grey\">1<br><span class=\"norm\">(< 0.01)</span></td><td class=\"tg\" style=\"background-color:rgb(135, 135, 15); color:white\">126<br><span class=\"norm\">(0.91)</span></td><td class=\"tg\" style=\"background-color:rgb(229, 229, 219); color:grey\">4<br><span class=\"norm\">(0.03)</span></td><td class=\"tg\" style=\"background-color:rgb(235, 235, 231); color:grey\">1<br><span class=\"norm\">(< 0.01)</span></td><td class=\"tg\" style=\"background-color:rgb(226, 226, 212); color:grey\">6<br><span class=\"norm\">(0.04)</span></td></tr><tr>\n",
              "\t<td class=\"tg\">D</td><td class=\"tg\" style=\"background-color:rgb(229, 229, 218); color:grey\">5<br><span class=\"norm\">(0.03)</span></td><td class=\"tg\" style=\"background-color:rgb(235, 235, 232); color:grey\">1<br><span class=\"norm\">(< 0.01)</span></td><td class=\"tg\" style=\"background-color:rgb(232, 232, 224); color:grey\">3<br><span class=\"norm\">(0.02)</span></td><td class=\"tg\" style=\"background-color:rgb(134, 134, 14); color:white\">155<br><span class=\"norm\">(0.92)</span></td><td class=\"tg\" style=\"background-color:rgb(230, 230, 221); color:grey\">4<br><span class=\"norm\">(0.02)</span></td><td class=\"tg\" style=\"background-color:rgb(235, 235, 232); color:grey\">1<br><span class=\"norm\">(< 0.01)</span></td></tr><tr>\n",
              "\t<td class=\"tg\">E</td><td class=\"tg\" style=\"background-color:rgb(230, 230, 219); color:grey\">5<br><span class=\"norm\">(0.03)</span></td><td class=\"tg\" style=\"background-color:rgb(232, 232, 225); color:grey\">3<br><span class=\"norm\">(0.02)</span></td><td class=\"tg\" style=\"background-color:rgb(228, 228, 217); color:grey\">6<br><span class=\"norm\">(0.03)</span></td><td class=\"tg\" style=\"background-color:rgb(228, 228, 217); color:grey\">6<br><span class=\"norm\">(0.03)</span></td><td class=\"tg\" style=\"background-color:rgb(138, 138, 22); color:white\">162<br><span class=\"norm\">(0.87)</span></td><td class=\"tg\" style=\"background-color:rgb(231, 231, 222); color:grey\">4<br><span class=\"norm\">(0.02)</span></td></tr><tr>\n",
              "\t<td class=\"tg\">F</td><td class=\"tg\" style=\"background-color:rgb(225, 225, 209); color:grey\">8<br><span class=\"norm\">(0.05)</span></td><td class=\"tg\" style=\"background-color:rgb(239, 239, 239); color:grey\">0<br><span class=\"norm\">(0.00)</span></td><td class=\"tg\" style=\"background-color:rgb(229, 229, 217); color:grey\">5<br><span class=\"norm\">(0.03)</span></td><td class=\"tg\" style=\"background-color:rgb(233, 233, 227); color:grey\">2<br><span class=\"norm\">(0.01)</span></td><td class=\"tg\" style=\"background-color:rgb(232, 232, 224); color:grey\">3<br><span class=\"norm\">(0.02)</span></td><td class=\"tg\" style=\"background-color:rgb(137, 137, 19); color:white\">140<br><span class=\"norm\">(0.89)</span></td></tr>\n",
              "    <tr>\n",
              "      <td class=\"tg\"></td>\n",
              "      <td class=\"tg\"></td>\n",
              "      <td class=\"tg\" style=\"width: 60px;\">A</td><td class=\"tg\" style=\"width: 60px;\">B</td><td class=\"tg\" style=\"width: 60px;\">C</td><td class=\"tg\" style=\"width: 60px;\">D</td><td class=\"tg\" style=\"width: 60px;\">E</td><td class=\"tg\" style=\"width: 60px;\">F</td>\n",
              "    </tr>\n",
              "</tbody>\n",
              "</table>\n",
              "     </div></div>\n"
            ],
            "text/plain": [
              "<IPython.core.display.HTML object>"
            ]
          },
          "metadata": {
            "tags": []
          }
        }
      ]
    }
  ]
}